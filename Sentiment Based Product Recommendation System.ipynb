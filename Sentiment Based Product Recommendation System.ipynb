{
 "cells": [
  {
   "cell_type": "markdown",
   "id": "bac9868a",
   "metadata": {},
   "source": [
    "# Sentiment Based Product Recommendation System"
   ]
  },
  {
   "cell_type": "markdown",
   "id": "459928b6",
   "metadata": {},
   "source": [
    "# Problem Statement\n",
    "\n",
    "The e-commerce business is quite popular today. Here, you do not need to take orders by going to each customer. A company launches its website to sell the items to the end consumer, and customers can order the products that they require from the same website. Famous examples of such e-commerce companies are Amazon, Flipkart, Myntra, Paytm and Snapdeal.\n",
    "\n",
    " \n",
    "\n",
    "Suppose you are working as a Machine Learning Engineer in an e-commerce company named 'Ebuss'. Ebuss has captured a huge market share in many fields, and it sells the products in various categories such as household essentials, books, personal care products, medicines, cosmetic items, beauty products, electrical appliances, kitchen and dining products and health care products.\n",
    "\n",
    " \n",
    "\n",
    "With the advancement in technology, it is imperative for Ebuss to grow quickly in the e-commerce market to become a major leader in the market because it has to compete with the likes of Amazon, Flipkart, etc., which are already market leaders.\n",
    "\n",
    " \n",
    "\n",
    "As a senior ML Engineer, you are asked to build a model that will improve the recommendations given to the users given their past reviews and ratings. \n",
    "\n",
    "In order to do this, you planned to build a **sentiment-based product recommendation system**, which includes the following tasks.\n",
    "\n",
    " 1. Data sourcing and sentiment analysis\n",
    " 2. Building a recommendation system\n",
    " 3. Improving the recommendations using the sentiment analysis model\n",
    " 4. Deploying the end-to-end project with a user interface\n",
    "\n",
    "The steps  involved in the project are given below:\n",
    "\n",
    "- Exploratory data analysis\n",
    "- Data cleaning\n",
    "- Text preprocessing\n",
    "- Feature extraction: In order to extract features from the text data, you may choose from any of the methods, including bag-of-words, TF-IDF vectorization or word embedding.\n",
    "- Training a text classification model: You need to build at least three ML models. You then need to analyse the performance of each of these models and choose the best model. At least three out of the following four models need to be built (Do not forget, if required, handle the class imbalance and perform hyperparameter tuning.). \n",
    "    1. Logistic regression\n",
    "    2. Random forest\n",
    "    3. XGBoost\n",
    "    4. Naive Bayes\n",
    "- Building a recommendation system(User-based recommendation system, Item-based recommendation system)\n",
    "- Improving the recommendations using the sentiment analysis model\n",
    "- Evaluating the model and recommedation system using the Test data\n",
    "- Create flask application\n",
    "- Deploy the application to heroku platform"
   ]
  },
  {
   "cell_type": "markdown",
   "id": "05d11bda",
   "metadata": {},
   "source": [
    "## Import Libraries"
   ]
  },
  {
   "cell_type": "code",
   "execution_count": 1,
   "id": "f8d4e541",
   "metadata": {},
   "outputs": [],
   "source": [
    "import warnings\n",
    "warnings.filterwarnings(\"ignore\")"
   ]
  },
  {
   "cell_type": "code",
   "execution_count": 2,
   "id": "8ec5ccc5",
   "metadata": {},
   "outputs": [],
   "source": [
    "# General purpose libraries\n",
    "import re\n",
    "import time\n",
    "import numpy as np\n",
    "import pandas as pd\n",
    "import seaborn as sns\n",
    "import matplotlib.pyplot as plt\n",
    "from collections import Counter\n",
    "from datetime import datetime\n",
    "from imblearn.over_sampling import SMOTE\n",
    "from imblearn.under_sampling import RandomUnderSampler\n",
    "from imblearn.pipeline import Pipeline"
   ]
  },
  {
   "cell_type": "markdown",
   "id": "bd128adc",
   "metadata": {},
   "source": [
    "## Loading the Dataset"
   ]
  },
  {
   "cell_type": "code",
   "execution_count": 3,
   "id": "d2412c85",
   "metadata": {},
   "outputs": [
    {
     "data": {
      "text/html": [
       "<div>\n",
       "<style scoped>\n",
       "    .dataframe tbody tr th:only-of-type {\n",
       "        vertical-align: middle;\n",
       "    }\n",
       "\n",
       "    .dataframe tbody tr th {\n",
       "        vertical-align: top;\n",
       "    }\n",
       "\n",
       "    .dataframe thead th {\n",
       "        text-align: right;\n",
       "    }\n",
       "</style>\n",
       "<table border=\"1\" class=\"dataframe\">\n",
       "  <thead>\n",
       "    <tr style=\"text-align: right;\">\n",
       "      <th></th>\n",
       "      <th>id</th>\n",
       "      <th>brand</th>\n",
       "      <th>categories</th>\n",
       "      <th>manufacturer</th>\n",
       "      <th>name</th>\n",
       "      <th>reviews_date</th>\n",
       "      <th>reviews_didPurchase</th>\n",
       "      <th>reviews_doRecommend</th>\n",
       "      <th>reviews_rating</th>\n",
       "      <th>reviews_text</th>\n",
       "      <th>reviews_title</th>\n",
       "      <th>reviews_userCity</th>\n",
       "      <th>reviews_userProvince</th>\n",
       "      <th>reviews_username</th>\n",
       "      <th>user_sentiment</th>\n",
       "    </tr>\n",
       "  </thead>\n",
       "  <tbody>\n",
       "    <tr>\n",
       "      <th>0</th>\n",
       "      <td>AV13O1A8GV-KLJ3akUyj</td>\n",
       "      <td>Universal Music</td>\n",
       "      <td>Movies, Music &amp; Books,Music,R&amp;b,Movies &amp; TV,Mo...</td>\n",
       "      <td>Universal Music Group / Cash Money</td>\n",
       "      <td>Pink Friday: Roman Reloaded Re-Up (w/dvd)</td>\n",
       "      <td>2012-11-30T06:21:45.000Z</td>\n",
       "      <td>NaN</td>\n",
       "      <td>NaN</td>\n",
       "      <td>5</td>\n",
       "      <td>i love this album. it's very good. more to the...</td>\n",
       "      <td>Just Awesome</td>\n",
       "      <td>Los Angeles</td>\n",
       "      <td>NaN</td>\n",
       "      <td>joshua</td>\n",
       "      <td>Positive</td>\n",
       "    </tr>\n",
       "    <tr>\n",
       "      <th>1</th>\n",
       "      <td>AV14LG0R-jtxr-f38QfS</td>\n",
       "      <td>Lundberg</td>\n",
       "      <td>Food,Packaged Foods,Snacks,Crackers,Snacks, Co...</td>\n",
       "      <td>Lundberg</td>\n",
       "      <td>Lundberg Organic Cinnamon Toast Rice Cakes</td>\n",
       "      <td>2017-07-09T00:00:00.000Z</td>\n",
       "      <td>True</td>\n",
       "      <td>NaN</td>\n",
       "      <td>5</td>\n",
       "      <td>Good flavor. This review was collected as part...</td>\n",
       "      <td>Good</td>\n",
       "      <td>NaN</td>\n",
       "      <td>NaN</td>\n",
       "      <td>dorothy w</td>\n",
       "      <td>Positive</td>\n",
       "    </tr>\n",
       "    <tr>\n",
       "      <th>2</th>\n",
       "      <td>AV14LG0R-jtxr-f38QfS</td>\n",
       "      <td>Lundberg</td>\n",
       "      <td>Food,Packaged Foods,Snacks,Crackers,Snacks, Co...</td>\n",
       "      <td>Lundberg</td>\n",
       "      <td>Lundberg Organic Cinnamon Toast Rice Cakes</td>\n",
       "      <td>2017-07-09T00:00:00.000Z</td>\n",
       "      <td>True</td>\n",
       "      <td>NaN</td>\n",
       "      <td>5</td>\n",
       "      <td>Good flavor.</td>\n",
       "      <td>Good</td>\n",
       "      <td>NaN</td>\n",
       "      <td>NaN</td>\n",
       "      <td>dorothy w</td>\n",
       "      <td>Positive</td>\n",
       "    </tr>\n",
       "    <tr>\n",
       "      <th>3</th>\n",
       "      <td>AV16khLE-jtxr-f38VFn</td>\n",
       "      <td>K-Y</td>\n",
       "      <td>Personal Care,Medicine Cabinet,Lubricant/Sperm...</td>\n",
       "      <td>K-Y</td>\n",
       "      <td>K-Y Love Sensuality Pleasure Gel</td>\n",
       "      <td>2016-01-06T00:00:00.000Z</td>\n",
       "      <td>False</td>\n",
       "      <td>False</td>\n",
       "      <td>1</td>\n",
       "      <td>I read through the reviews on here before look...</td>\n",
       "      <td>Disappointed</td>\n",
       "      <td>NaN</td>\n",
       "      <td>NaN</td>\n",
       "      <td>rebecca</td>\n",
       "      <td>Negative</td>\n",
       "    </tr>\n",
       "    <tr>\n",
       "      <th>4</th>\n",
       "      <td>AV16khLE-jtxr-f38VFn</td>\n",
       "      <td>K-Y</td>\n",
       "      <td>Personal Care,Medicine Cabinet,Lubricant/Sperm...</td>\n",
       "      <td>K-Y</td>\n",
       "      <td>K-Y Love Sensuality Pleasure Gel</td>\n",
       "      <td>2016-12-21T00:00:00.000Z</td>\n",
       "      <td>False</td>\n",
       "      <td>False</td>\n",
       "      <td>1</td>\n",
       "      <td>My husband bought this gel for us. The gel cau...</td>\n",
       "      <td>Irritation</td>\n",
       "      <td>NaN</td>\n",
       "      <td>NaN</td>\n",
       "      <td>walker557</td>\n",
       "      <td>Negative</td>\n",
       "    </tr>\n",
       "  </tbody>\n",
       "</table>\n",
       "</div>"
      ],
      "text/plain": [
       "                     id            brand  \\\n",
       "0  AV13O1A8GV-KLJ3akUyj  Universal Music   \n",
       "1  AV14LG0R-jtxr-f38QfS         Lundberg   \n",
       "2  AV14LG0R-jtxr-f38QfS         Lundberg   \n",
       "3  AV16khLE-jtxr-f38VFn              K-Y   \n",
       "4  AV16khLE-jtxr-f38VFn              K-Y   \n",
       "\n",
       "                                          categories  \\\n",
       "0  Movies, Music & Books,Music,R&b,Movies & TV,Mo...   \n",
       "1  Food,Packaged Foods,Snacks,Crackers,Snacks, Co...   \n",
       "2  Food,Packaged Foods,Snacks,Crackers,Snacks, Co...   \n",
       "3  Personal Care,Medicine Cabinet,Lubricant/Sperm...   \n",
       "4  Personal Care,Medicine Cabinet,Lubricant/Sperm...   \n",
       "\n",
       "                         manufacturer  \\\n",
       "0  Universal Music Group / Cash Money   \n",
       "1                            Lundberg   \n",
       "2                            Lundberg   \n",
       "3                                 K-Y   \n",
       "4                                 K-Y   \n",
       "\n",
       "                                         name              reviews_date  \\\n",
       "0   Pink Friday: Roman Reloaded Re-Up (w/dvd)  2012-11-30T06:21:45.000Z   \n",
       "1  Lundberg Organic Cinnamon Toast Rice Cakes  2017-07-09T00:00:00.000Z   \n",
       "2  Lundberg Organic Cinnamon Toast Rice Cakes  2017-07-09T00:00:00.000Z   \n",
       "3            K-Y Love Sensuality Pleasure Gel  2016-01-06T00:00:00.000Z   \n",
       "4            K-Y Love Sensuality Pleasure Gel  2016-12-21T00:00:00.000Z   \n",
       "\n",
       "  reviews_didPurchase reviews_doRecommend  reviews_rating  \\\n",
       "0                 NaN                 NaN               5   \n",
       "1                True                 NaN               5   \n",
       "2                True                 NaN               5   \n",
       "3               False               False               1   \n",
       "4               False               False               1   \n",
       "\n",
       "                                        reviews_text reviews_title  \\\n",
       "0  i love this album. it's very good. more to the...  Just Awesome   \n",
       "1  Good flavor. This review was collected as part...          Good   \n",
       "2                                       Good flavor.          Good   \n",
       "3  I read through the reviews on here before look...  Disappointed   \n",
       "4  My husband bought this gel for us. The gel cau...    Irritation   \n",
       "\n",
       "  reviews_userCity reviews_userProvince reviews_username user_sentiment  \n",
       "0      Los Angeles                  NaN           joshua       Positive  \n",
       "1              NaN                  NaN        dorothy w       Positive  \n",
       "2              NaN                  NaN        dorothy w       Positive  \n",
       "3              NaN                  NaN          rebecca       Negative  \n",
       "4              NaN                  NaN        walker557       Negative  "
      ]
     },
     "execution_count": 3,
     "metadata": {},
     "output_type": "execute_result"
    }
   ],
   "source": [
    "# importing dataset\n",
    "df_reviews = pd.read_csv(\"Dataset/sample30.csv\")\n",
    "df_reviews.head()"
   ]
  },
  {
   "cell_type": "markdown",
   "id": "e44340f6",
   "metadata": {},
   "source": [
    "## Exploratory Data Analysis "
   ]
  },
  {
   "cell_type": "markdown",
   "id": "547951cd",
   "metadata": {},
   "source": [
    "### Data Cleaning and Preprocessing"
   ]
  },
  {
   "cell_type": "code",
   "execution_count": 7,
   "id": "d8bc5b5e",
   "metadata": {},
   "outputs": [
    {
     "data": {
      "text/plain": [
       "(30000, 15)"
      ]
     },
     "execution_count": 7,
     "metadata": {},
     "output_type": "execute_result"
    }
   ],
   "source": [
    "# Check shape of df_reviews\n",
    "df_reviews.shape"
   ]
  },
  {
   "cell_type": "code",
   "execution_count": 4,
   "id": "9a4d3e14",
   "metadata": {},
   "outputs": [
    {
     "name": "stdout",
     "output_type": "stream",
     "text": [
      "<class 'pandas.core.frame.DataFrame'>\n",
      "RangeIndex: 30000 entries, 0 to 29999\n",
      "Data columns (total 15 columns):\n",
      " #   Column                Non-Null Count  Dtype \n",
      "---  ------                --------------  ----- \n",
      " 0   id                    30000 non-null  object\n",
      " 1   brand                 30000 non-null  object\n",
      " 2   categories            30000 non-null  object\n",
      " 3   manufacturer          29859 non-null  object\n",
      " 4   name                  30000 non-null  object\n",
      " 5   reviews_date          29954 non-null  object\n",
      " 6   reviews_didPurchase   15932 non-null  object\n",
      " 7   reviews_doRecommend   27430 non-null  object\n",
      " 8   reviews_rating        30000 non-null  int64 \n",
      " 9   reviews_text          30000 non-null  object\n",
      " 10  reviews_title         29810 non-null  object\n",
      " 11  reviews_userCity      1929 non-null   object\n",
      " 12  reviews_userProvince  170 non-null    object\n",
      " 13  reviews_username      29937 non-null  object\n",
      " 14  user_sentiment        29999 non-null  object\n",
      "dtypes: int64(1), object(14)\n",
      "memory usage: 3.4+ MB\n"
     ]
    }
   ],
   "source": [
    "# Show info\n",
    "df_reviews.info()"
   ]
  },
  {
   "cell_type": "markdown",
   "id": "b3d9922c",
   "metadata": {},
   "source": [
    "### Data Quality Check\n",
    "Check for NULL/Missing values"
   ]
  },
  {
   "cell_type": "code",
   "execution_count": 5,
   "id": "aec59dae",
   "metadata": {},
   "outputs": [],
   "source": [
    "# Function to check missing rows\n",
    "def checkMissingRows(df):\n",
    "    return df.isnull().sum()"
   ]
  },
  {
   "cell_type": "code",
   "execution_count": 6,
   "id": "f0cda186",
   "metadata": {},
   "outputs": [
    {
     "data": {
      "text/plain": [
       "id                          0\n",
       "brand                       0\n",
       "categories                  0\n",
       "manufacturer              141\n",
       "name                        0\n",
       "reviews_date               46\n",
       "reviews_didPurchase     14068\n",
       "reviews_doRecommend      2570\n",
       "reviews_rating              0\n",
       "reviews_text                0\n",
       "reviews_title             190\n",
       "reviews_userCity        28071\n",
       "reviews_userProvince    29830\n",
       "reviews_username           63\n",
       "user_sentiment              1\n",
       "dtype: int64"
      ]
     },
     "execution_count": 6,
     "metadata": {},
     "output_type": "execute_result"
    }
   ],
   "source": [
    "# Call checkMissingRows function to check missing values in every rows\n",
    "checkMissingRows(df_reviews)"
   ]
  },
  {
   "cell_type": "code",
   "execution_count": 8,
   "id": "bed5faf1",
   "metadata": {},
   "outputs": [
    {
     "name": "stdout",
     "output_type": "stream",
     "text": [
      "Missing values by percentage\n"
     ]
    },
    {
     "data": {
      "text/plain": [
       "reviews_userProvince    99.4333\n",
       "reviews_userCity        93.5700\n",
       "reviews_didPurchase     46.8933\n",
       "reviews_doRecommend      8.5667\n",
       "reviews_title            0.6333\n",
       "manufacturer             0.4700\n",
       "reviews_username         0.2100\n",
       "reviews_date             0.1533\n",
       "user_sentiment           0.0033\n",
       "id                       0.0000\n",
       "brand                    0.0000\n",
       "categories               0.0000\n",
       "name                     0.0000\n",
       "reviews_rating           0.0000\n",
       "reviews_text             0.0000\n",
       "dtype: float64"
      ]
     },
     "execution_count": 8,
     "metadata": {},
     "output_type": "execute_result"
    }
   ],
   "source": [
    "# Missing values by percentage\n",
    "print(\"Missing values by percentage\")\n",
    "null_info = df_reviews.isna().sum() / len(df_reviews) * 100\n",
    "null_info.sort_values(ascending=False).head(50).round(4)"
   ]
  },
  {
   "cell_type": "markdown",
   "id": "ea84614b",
   "metadata": {},
   "source": [
    "### Data Cleaning and Preparation"
   ]
  },
  {
   "cell_type": "code",
   "execution_count": 10,
   "id": "87e2d51f",
   "metadata": {},
   "outputs": [
    {
     "name": "stdout",
     "output_type": "stream",
     "text": [
      "Percentage of missing values:\n",
      "id                      0.00\n",
      "brand                   0.00\n",
      "categories              0.00\n",
      "manufacturer            0.47\n",
      "name                    0.00\n",
      "reviews_date            0.15\n",
      "reviews_didPurchase    46.89\n",
      "reviews_doRecommend     8.57\n",
      "reviews_rating          0.00\n",
      "reviews_text            0.00\n",
      "reviews_title           0.63\n",
      "reviews_username        0.21\n",
      "user_sentiment          0.00\n",
      "dtype: float64\n"
     ]
    }
   ],
   "source": [
    "# Drop the columns with less than 20% of values\n",
    "missing_val_threshold = len(df_reviews) * .2\n",
    "df_reviews.dropna(thresh=missing_val_threshold, axis=1, inplace=True)\n",
    "print(\"Percentage of missing values:\")\n",
    "print(df_reviews.isna().mean().round(4)*100)"
   ]
  },
  {
   "cell_type": "code",
   "execution_count": 11,
   "id": "ac7fda32",
   "metadata": {},
   "outputs": [
    {
     "name": "stdout",
     "output_type": "stream",
     "text": [
      "Missing values by percentage\n"
     ]
    },
    {
     "data": {
      "text/plain": [
       "reviews_didPurchase    46.8933\n",
       "reviews_doRecommend     8.5667\n",
       "reviews_title           0.6333\n",
       "manufacturer            0.4700\n",
       "reviews_username        0.2100\n",
       "reviews_date            0.1533\n",
       "user_sentiment          0.0033\n",
       "id                      0.0000\n",
       "brand                   0.0000\n",
       "categories              0.0000\n",
       "name                    0.0000\n",
       "reviews_rating          0.0000\n",
       "reviews_text            0.0000\n",
       "dtype: float64"
      ]
     },
     "execution_count": 11,
     "metadata": {},
     "output_type": "execute_result"
    }
   ],
   "source": [
    "# Missing values by percentage after dropping columns\n",
    "print(\"Missing values by percentage\")\n",
    "null_info = df_reviews.isna().sum() / len(df_reviews) * 100\n",
    "null_info.sort_values(ascending=False).head(50).round(4)"
   ]
  },
  {
   "cell_type": "code",
   "execution_count": 12,
   "id": "c0439ce2",
   "metadata": {},
   "outputs": [],
   "source": [
    "# Remove the missing row of user_sentiment\n",
    "df_reviews = df_reviews[~df_reviews.user_sentiment.isnull()]"
   ]
  },
  {
   "cell_type": "code",
   "execution_count": 13,
   "id": "927a1d0e",
   "metadata": {},
   "outputs": [],
   "source": [
    "# Map the categorical user_sentiment to numerical 1 or 0 for modelling\n",
    "df_reviews['user_sentiment'] = df_reviews['user_sentiment'].map({'Positive':1, 'Negative': 0})"
   ]
  },
  {
   "cell_type": "code",
   "execution_count": 14,
   "id": "5cacc525",
   "metadata": {},
   "outputs": [
    {
     "data": {
      "text/plain": [
       "1    0.887763\n",
       "0    0.112237\n",
       "Name: user_sentiment, dtype: float64"
      ]
     },
     "execution_count": 14,
     "metadata": {},
     "output_type": "execute_result"
    }
   ],
   "source": [
    "# Get the value count of user_sentiments column\n",
    "df_reviews['user_sentiment'].value_counts(normalize=True)"
   ]
  },
  {
   "cell_type": "markdown",
   "id": "f7ae1d44",
   "metadata": {},
   "source": [
    "### Univariate Analysis"
   ]
  },
  {
   "cell_type": "code",
   "execution_count": 18,
   "id": "985d5a99",
   "metadata": {},
   "outputs": [
    {
     "data": {
      "text/plain": [
       "<Axes: xlabel='user_sentiment', ylabel='count'>"
      ]
     },
     "execution_count": 18,
     "metadata": {},
     "output_type": "execute_result"
    },
    {
     "data": {
      "image/png": "[encoded data removed]",
      "text/plain": [
       "<Figure size 640x480 with 1 Axes>"
      ]
     },
     "metadata": {},
     "output_type": "display_data"
    }
   ],
   "source": [
    "# Visualize using count plot\n",
    "sns.countplot(x='user_sentiment', data=df_reviews, palette=\"Set2\")"
   ]
  },
  {
   "cell_type": "markdown",
   "id": "67d33594",
   "metadata": {},
   "source": [
    "**We can see overrepresentation of Positive reviews. We may have to do Class Imbalnce techniques during modeling.**"
   ]
  },
  {
   "cell_type": "code",
   "execution_count": 21,
   "id": "f58186e8",
   "metadata": {},
   "outputs": [
    {
     "data": {
      "text/plain": [
       "count    29999.000000\n",
       "mean         4.483116\n",
       "std          0.988453\n",
       "min          1.000000\n",
       "25%          4.000000\n",
       "50%          5.000000\n",
       "75%          5.000000\n",
       "max          5.000000\n",
       "Name: reviews_rating, dtype: float64"
      ]
     },
     "execution_count": 21,
     "metadata": {},
     "output_type": "execute_result"
    }
   ],
   "source": [
    "df_reviews['reviews_rating'].describe()"
   ]
  },
  {
   "cell_type": "code",
   "execution_count": 22,
   "id": "160a9a90",
   "metadata": {},
   "outputs": [
    {
     "data": {
      "text/plain": [
       "5    20830\n",
       "4     6020\n",
       "1     1384\n",
       "3     1345\n",
       "2      420\n",
       "Name: reviews_rating, dtype: int64"
      ]
     },
     "execution_count": 22,
     "metadata": {},
     "output_type": "execute_result"
    }
   ],
   "source": [
    "df_reviews['reviews_rating'].value_counts()"
   ]
  },
  {
   "cell_type": "code",
   "execution_count": 23,
   "id": "834e0406",
   "metadata": {},
   "outputs": [
    {
     "data": {
      "text/plain": [
       "<Axes: xlabel='reviews_rating', ylabel='count'>"
      ]
     },
     "execution_count": 23,
     "metadata": {},
     "output_type": "execute_result"
    },
    {
     "data": {
      "image/png": "[encoded data removed]",
      "text/plain": [
       "<Figure size 640x480 with 1 Axes>"
      ]
     },
     "metadata": {},
     "output_type": "display_data"
    }
   ],
   "source": [
    "# Visualize the reviews_rating.\n",
    "sns.countplot(x='reviews_rating', data=df_reviews)"
   ]
  },
  {
   "cell_type": "markdown",
   "id": "080200bf",
   "metadata": {},
   "source": [
    "### Positive user sentiment with reviews_rating"
   ]
  },
  {
   "cell_type": "code",
   "execution_count": 24,
   "id": "9683e082",
   "metadata": {},
   "outputs": [
    {
     "data": {
      "text/plain": [
       "count    26632.000000\n",
       "mean         4.560378\n",
       "std          0.865194\n",
       "min          1.000000\n",
       "25%          4.000000\n",
       "50%          5.000000\n",
       "75%          5.000000\n",
       "max          5.000000\n",
       "Name: reviews_rating, dtype: float64"
      ]
     },
     "execution_count": 24,
     "metadata": {},
     "output_type": "execute_result"
    }
   ],
   "source": [
    "df_reviews[df_reviews['user_sentiment'] == 1]['reviews_rating'].describe()"
   ]
  },
  {
   "cell_type": "markdown",
   "id": "c3f95d21",
   "metadata": {},
   "source": [
    "### Negative user sentiment with reviews_rating"
   ]
  },
  {
   "cell_type": "code",
   "execution_count": 26,
   "id": "66a511ff",
   "metadata": {},
   "outputs": [
    {
     "data": {
      "text/plain": [
       "count    3367.000000\n",
       "mean        3.871993\n",
       "std         1.537589\n",
       "min         1.000000\n",
       "25%         3.000000\n",
       "50%         5.000000\n",
       "75%         5.000000\n",
       "max         5.000000\n",
       "Name: reviews_rating, dtype: float64"
      ]
     },
     "execution_count": 26,
     "metadata": {},
     "output_type": "execute_result"
    }
   ],
   "source": [
    "df_reviews[df_reviews['user_sentiment'] == 0]['reviews_rating'].describe()"
   ]
  },
  {
   "cell_type": "markdown",
   "id": "6c9a6139",
   "metadata": {},
   "source": [
    "### Positive user sentiment and reviews_rating less than 4"
   ]
  },
  {
   "cell_type": "code",
   "execution_count": 28,
   "id": "4196c3cb",
   "metadata": {},
   "outputs": [
    {
     "data": {
      "text/html": [
       "<div>\n",
       "<style scoped>\n",
       "    .dataframe tbody tr th:only-of-type {\n",
       "        vertical-align: middle;\n",
       "    }\n",
       "\n",
       "    .dataframe tbody tr th {\n",
       "        vertical-align: top;\n",
       "    }\n",
       "\n",
       "    .dataframe thead th {\n",
       "        text-align: right;\n",
       "    }\n",
       "</style>\n",
       "<table border=\"1\" class=\"dataframe\">\n",
       "  <thead>\n",
       "    <tr style=\"text-align: right;\">\n",
       "      <th></th>\n",
       "      <th>reviews_title</th>\n",
       "      <th>reviews_text</th>\n",
       "      <th>reviews_rating</th>\n",
       "    </tr>\n",
       "  </thead>\n",
       "  <tbody>\n",
       "    <tr>\n",
       "      <th>9</th>\n",
       "      <td>Don't buy</td>\n",
       "      <td>Got as a surprise for my husband there is noth...</td>\n",
       "      <td>1</td>\n",
       "    </tr>\n",
       "    <tr>\n",
       "      <th>11</th>\n",
       "      <td>Waste of Money</td>\n",
       "      <td>Purchased this thinking it would have some sor...</td>\n",
       "      <td>1</td>\n",
       "    </tr>\n",
       "    <tr>\n",
       "      <th>14</th>\n",
       "      <td>Disappointed</td>\n",
       "      <td>First time purchase of this type of product. M...</td>\n",
       "      <td>1</td>\n",
       "    </tr>\n",
       "    <tr>\n",
       "      <th>18</th>\n",
       "      <td>Pretty nice</td>\n",
       "      <td>I bought this because it had better reviews th...</td>\n",
       "      <td>3</td>\n",
       "    </tr>\n",
       "    <tr>\n",
       "      <th>54</th>\n",
       "      <td>New formula is terrible</td>\n",
       "      <td>I used (and loved) this product for several ye...</td>\n",
       "      <td>1</td>\n",
       "    </tr>\n",
       "    <tr>\n",
       "      <th>...</th>\n",
       "      <td>...</td>\n",
       "      <td>...</td>\n",
       "      <td>...</td>\n",
       "    </tr>\n",
       "    <tr>\n",
       "      <th>29050</th>\n",
       "      <td>Didn't Do Much For Dryness</td>\n",
       "      <td>I received this product from Influenster. I ab...</td>\n",
       "      <td>3</td>\n",
       "    </tr>\n",
       "    <tr>\n",
       "      <th>29051</th>\n",
       "      <td>Not the best</td>\n",
       "      <td>I used this product for a month straight befor...</td>\n",
       "      <td>3</td>\n",
       "    </tr>\n",
       "    <tr>\n",
       "      <th>29053</th>\n",
       "      <td>clay conditioning</td>\n",
       "      <td>Got this item as a compliment from influenster...</td>\n",
       "      <td>3</td>\n",
       "    </tr>\n",
       "    <tr>\n",
       "      <th>29054</th>\n",
       "      <td>Eh</td>\n",
       "      <td>I am not in love with the conditioner. The cla...</td>\n",
       "      <td>3</td>\n",
       "    </tr>\n",
       "    <tr>\n",
       "      <th>29055</th>\n",
       "      <td>Just Okay</td>\n",
       "      <td>This conditioner didn't wow me as much as the ...</td>\n",
       "      <td>3</td>\n",
       "    </tr>\n",
       "  </tbody>\n",
       "</table>\n",
       "<p>2192 rows × 3 columns</p>\n",
       "</div>"
      ],
      "text/plain": [
       "                    reviews_title  \\\n",
       "9                       Don't buy   \n",
       "11                 Waste of Money   \n",
       "14                   Disappointed   \n",
       "18                    Pretty nice   \n",
       "54        New formula is terrible   \n",
       "...                           ...   \n",
       "29050  Didn't Do Much For Dryness   \n",
       "29051                Not the best   \n",
       "29053           clay conditioning   \n",
       "29054                          Eh   \n",
       "29055                   Just Okay   \n",
       "\n",
       "                                            reviews_text  reviews_rating  \n",
       "9      Got as a surprise for my husband there is noth...               1  \n",
       "11     Purchased this thinking it would have some sor...               1  \n",
       "14     First time purchase of this type of product. M...               1  \n",
       "18     I bought this because it had better reviews th...               3  \n",
       "54     I used (and loved) this product for several ye...               1  \n",
       "...                                                  ...             ...  \n",
       "29050  I received this product from Influenster. I ab...               3  \n",
       "29051  I used this product for a month straight befor...               3  \n",
       "29053  Got this item as a compliment from influenster...               3  \n",
       "29054  I am not in love with the conditioner. The cla...               3  \n",
       "29055  This conditioner didn't wow me as much as the ...               3  \n",
       "\n",
       "[2192 rows x 3 columns]"
      ]
     },
     "execution_count": 28,
     "metadata": {},
     "output_type": "execute_result"
    }
   ],
   "source": [
    "df_reviews[(df_reviews['user_sentiment'] == 1) & (df_reviews['reviews_rating'] < 4)] [['reviews_title', 'reviews_text', 'reviews_rating']]"
   ]
  },
  {
   "cell_type": "markdown",
   "id": "a5eb371a",
   "metadata": {},
   "source": [
    "### Negative user sentiment and reviews_rating greater than equal to 4"
   ]
  },
  {
   "cell_type": "code",
   "execution_count": 29,
   "id": "b6c51b90",
   "metadata": {},
   "outputs": [
    {
     "data": {
      "text/html": [
       "<div>\n",
       "<style scoped>\n",
       "    .dataframe tbody tr th:only-of-type {\n",
       "        vertical-align: middle;\n",
       "    }\n",
       "\n",
       "    .dataframe tbody tr th {\n",
       "        vertical-align: top;\n",
       "    }\n",
       "\n",
       "    .dataframe thead th {\n",
       "        text-align: right;\n",
       "    }\n",
       "</style>\n",
       "<table border=\"1\" class=\"dataframe\">\n",
       "  <thead>\n",
       "    <tr style=\"text-align: right;\">\n",
       "      <th></th>\n",
       "      <th>reviews_title</th>\n",
       "      <th>reviews_text</th>\n",
       "      <th>reviews_rating</th>\n",
       "    </tr>\n",
       "  </thead>\n",
       "  <tbody>\n",
       "    <tr>\n",
       "      <th>92</th>\n",
       "      <td>hydrating but not too heavy</td>\n",
       "      <td>It hydrates my skin. It is not too thick and h...</td>\n",
       "      <td>4</td>\n",
       "    </tr>\n",
       "    <tr>\n",
       "      <th>96</th>\n",
       "      <td>This product has made a real difference on my ...</td>\n",
       "      <td>In only a week I can see the difference in my ...</td>\n",
       "      <td>4</td>\n",
       "    </tr>\n",
       "    <tr>\n",
       "      <th>100</th>\n",
       "      <td>Noticed a difference in just two weeks!</td>\n",
       "      <td>This product has made my skin smoother and sup...</td>\n",
       "      <td>4</td>\n",
       "    </tr>\n",
       "    <tr>\n",
       "      <th>106</th>\n",
       "      <td>Very rich cream</td>\n",
       "      <td>I like to use this cream on my neck and collar...</td>\n",
       "      <td>4</td>\n",
       "    </tr>\n",
       "    <tr>\n",
       "      <th>117</th>\n",
       "      <td>Not greasy</td>\n",
       "      <td>I finally found a moisturizing product that wi...</td>\n",
       "      <td>4</td>\n",
       "    </tr>\n",
       "    <tr>\n",
       "      <th>...</th>\n",
       "      <td>...</td>\n",
       "      <td>...</td>\n",
       "      <td>...</td>\n",
       "    </tr>\n",
       "    <tr>\n",
       "      <th>29818</th>\n",
       "      <td>Great Product</td>\n",
       "      <td>I received a complimentary sample of this prod...</td>\n",
       "      <td>5</td>\n",
       "    </tr>\n",
       "    <tr>\n",
       "      <th>29855</th>\n",
       "      <td>Great</td>\n",
       "      <td>This has prolonged the color in my hair! Not o...</td>\n",
       "      <td>5</td>\n",
       "    </tr>\n",
       "    <tr>\n",
       "      <th>29858</th>\n",
       "      <td>Makes my hair soft and shiny without excess oil!</td>\n",
       "      <td>This conditioner makes my hair very soft witho...</td>\n",
       "      <td>5</td>\n",
       "    </tr>\n",
       "    <tr>\n",
       "      <th>29862</th>\n",
       "      <td>Great Conditioner</td>\n",
       "      <td>This conditioner has become a staple in my hai...</td>\n",
       "      <td>5</td>\n",
       "    </tr>\n",
       "    <tr>\n",
       "      <th>29941</th>\n",
       "      <td>Good for keeping combination hair under control</td>\n",
       "      <td>It's very difficult to find a conditioner that...</td>\n",
       "      <td>5</td>\n",
       "    </tr>\n",
       "  </tbody>\n",
       "</table>\n",
       "<p>2410 rows × 3 columns</p>\n",
       "</div>"
      ],
      "text/plain": [
       "                                           reviews_title  \\\n",
       "92                           hydrating but not too heavy   \n",
       "96     This product has made a real difference on my ...   \n",
       "100              Noticed a difference in just two weeks!   \n",
       "106                                      Very rich cream   \n",
       "117                                           Not greasy   \n",
       "...                                                  ...   \n",
       "29818                                      Great Product   \n",
       "29855                                              Great   \n",
       "29858   Makes my hair soft and shiny without excess oil!   \n",
       "29862                                  Great Conditioner   \n",
       "29941    Good for keeping combination hair under control   \n",
       "\n",
       "                                            reviews_text  reviews_rating  \n",
       "92     It hydrates my skin. It is not too thick and h...               4  \n",
       "96     In only a week I can see the difference in my ...               4  \n",
       "100    This product has made my skin smoother and sup...               4  \n",
       "106    I like to use this cream on my neck and collar...               4  \n",
       "117    I finally found a moisturizing product that wi...               4  \n",
       "...                                                  ...             ...  \n",
       "29818  I received a complimentary sample of this prod...               5  \n",
       "29855  This has prolonged the color in my hair! Not o...               5  \n",
       "29858  This conditioner makes my hair very soft witho...               5  \n",
       "29862  This conditioner has become a staple in my hai...               5  \n",
       "29941  It's very difficult to find a conditioner that...               5  \n",
       "\n",
       "[2410 rows x 3 columns]"
      ]
     },
     "execution_count": 29,
     "metadata": {},
     "output_type": "execute_result"
    }
   ],
   "source": [
    "df_reviews[(df_reviews['user_sentiment'] == 0) & (df_reviews['reviews_rating'] >= 4)] [['reviews_title', 'reviews_text', 'reviews_rating']]"
   ]
  },
  {
   "cell_type": "markdown",
   "id": "8023f449",
   "metadata": {},
   "source": [
    "### Verify mismatch in User sentitment and reviews rating"
   ]
  },
  {
   "cell_type": "code",
   "execution_count": 30,
   "id": "d4571dc8",
   "metadata": {},
   "outputs": [
    {
     "data": {
      "text/html": [
       "<div>\n",
       "<style scoped>\n",
       "    .dataframe tbody tr th:only-of-type {\n",
       "        vertical-align: middle;\n",
       "    }\n",
       "\n",
       "    .dataframe tbody tr th {\n",
       "        vertical-align: top;\n",
       "    }\n",
       "\n",
       "    .dataframe thead th {\n",
       "        text-align: right;\n",
       "    }\n",
       "</style>\n",
       "<table border=\"1\" class=\"dataframe\">\n",
       "  <thead>\n",
       "    <tr style=\"text-align: right;\">\n",
       "      <th>reviews_rating</th>\n",
       "      <th>1</th>\n",
       "      <th>2</th>\n",
       "      <th>3</th>\n",
       "      <th>4</th>\n",
       "      <th>5</th>\n",
       "      <th>All</th>\n",
       "    </tr>\n",
       "    <tr>\n",
       "      <th>user_sentiment</th>\n",
       "      <th></th>\n",
       "      <th></th>\n",
       "      <th></th>\n",
       "      <th></th>\n",
       "      <th></th>\n",
       "      <th></th>\n",
       "    </tr>\n",
       "  </thead>\n",
       "  <tbody>\n",
       "    <tr>\n",
       "      <th>0</th>\n",
       "      <td>597</td>\n",
       "      <td>140</td>\n",
       "      <td>220</td>\n",
       "      <td>550</td>\n",
       "      <td>1860</td>\n",
       "      <td>3367</td>\n",
       "    </tr>\n",
       "    <tr>\n",
       "      <th>1</th>\n",
       "      <td>787</td>\n",
       "      <td>280</td>\n",
       "      <td>1125</td>\n",
       "      <td>5470</td>\n",
       "      <td>18970</td>\n",
       "      <td>26632</td>\n",
       "    </tr>\n",
       "    <tr>\n",
       "      <th>All</th>\n",
       "      <td>1384</td>\n",
       "      <td>420</td>\n",
       "      <td>1345</td>\n",
       "      <td>6020</td>\n",
       "      <td>20830</td>\n",
       "      <td>29999</td>\n",
       "    </tr>\n",
       "  </tbody>\n",
       "</table>\n",
       "</div>"
      ],
      "text/plain": [
       "reviews_rating     1    2     3     4      5    All\n",
       "user_sentiment                                     \n",
       "0                597  140   220   550   1860   3367\n",
       "1                787  280  1125  5470  18970  26632\n",
       "All             1384  420  1345  6020  20830  29999"
      ]
     },
     "execution_count": 30,
     "metadata": {},
     "output_type": "execute_result"
    }
   ],
   "source": [
    "pd.crosstab(df_reviews['user_sentiment'], df_reviews['reviews_rating'], margins=True)"
   ]
  },
  {
   "cell_type": "markdown",
   "id": "d33e0226",
   "metadata": {},
   "source": [
    "As per the above crosstab result, it's look to be mismatch between user_sentiment and reviews_rating. There are records those have higher user rating but user sentiment is negative and lower user rating but user sentiment is positive."
   ]
  },
  {
   "cell_type": "markdown",
   "id": "8bbb606a",
   "metadata": {},
   "source": [
    "We can either clean up those records or update the target column to correct user sentiment, so that it will be helpful for modeling."
   ]
  },
  {
   "cell_type": "markdown",
   "id": "0a18720a",
   "metadata": {},
   "source": [
    "### Correction in user_sentiment as per below logic:\n",
    "\n",
    "Here, updating the user_sentiment to 0(previously it was 1) when the revies_rating is less than 4, and updating the user_sentiment to 1(previously it was 0) when the reviews_rating is greater than or equal to 4."
   ]
  },
  {
   "cell_type": "code",
   "execution_count": 32,
   "id": "7e9366fe",
   "metadata": {},
   "outputs": [],
   "source": [
    "df_reviews.loc[(df_reviews['user_sentiment'] == 1) & (df_reviews['reviews_rating'] < 4), 'user_sentiment'] = 0"
   ]
  },
  {
   "cell_type": "code",
   "execution_count": 33,
   "id": "4983638a",
   "metadata": {},
   "outputs": [],
   "source": [
    "df_reviews.loc[(df_reviews['user_sentiment'] == 0) & (df_reviews['reviews_rating'] >= 4), 'user_sentiment'] = 1"
   ]
  },
  {
   "cell_type": "code",
   "execution_count": 34,
   "id": "0dfd3f88",
   "metadata": {},
   "outputs": [
    {
     "data": {
      "text/html": [
       "<div>\n",
       "<style scoped>\n",
       "    .dataframe tbody tr th:only-of-type {\n",
       "        vertical-align: middle;\n",
       "    }\n",
       "\n",
       "    .dataframe tbody tr th {\n",
       "        vertical-align: top;\n",
       "    }\n",
       "\n",
       "    .dataframe thead th {\n",
       "        text-align: right;\n",
       "    }\n",
       "</style>\n",
       "<table border=\"1\" class=\"dataframe\">\n",
       "  <thead>\n",
       "    <tr style=\"text-align: right;\">\n",
       "      <th>reviews_rating</th>\n",
       "      <th>1</th>\n",
       "      <th>2</th>\n",
       "      <th>3</th>\n",
       "      <th>4</th>\n",
       "      <th>5</th>\n",
       "      <th>All</th>\n",
       "    </tr>\n",
       "    <tr>\n",
       "      <th>user_sentiment</th>\n",
       "      <th></th>\n",
       "      <th></th>\n",
       "      <th></th>\n",
       "      <th></th>\n",
       "      <th></th>\n",
       "      <th></th>\n",
       "    </tr>\n",
       "  </thead>\n",
       "  <tbody>\n",
       "    <tr>\n",
       "      <th>0</th>\n",
       "      <td>1384</td>\n",
       "      <td>420</td>\n",
       "      <td>1345</td>\n",
       "      <td>0</td>\n",
       "      <td>0</td>\n",
       "      <td>3149</td>\n",
       "    </tr>\n",
       "    <tr>\n",
       "      <th>1</th>\n",
       "      <td>0</td>\n",
       "      <td>0</td>\n",
       "      <td>0</td>\n",
       "      <td>6020</td>\n",
       "      <td>20830</td>\n",
       "      <td>26850</td>\n",
       "    </tr>\n",
       "    <tr>\n",
       "      <th>All</th>\n",
       "      <td>1384</td>\n",
       "      <td>420</td>\n",
       "      <td>1345</td>\n",
       "      <td>6020</td>\n",
       "      <td>20830</td>\n",
       "      <td>29999</td>\n",
       "    </tr>\n",
       "  </tbody>\n",
       "</table>\n",
       "</div>"
      ],
      "text/plain": [
       "reviews_rating     1    2     3     4      5    All\n",
       "user_sentiment                                     \n",
       "0               1384  420  1345     0      0   3149\n",
       "1                  0    0     0  6020  20830  26850\n",
       "All             1384  420  1345  6020  20830  29999"
      ]
     },
     "execution_count": 34,
     "metadata": {},
     "output_type": "execute_result"
    }
   ],
   "source": [
    "# Reverify mismatch in User sentiment and Reviews rating\n",
    "pd.crosstab(df_reviews['user_sentiment'], df_reviews['reviews_rating'], margins=True)"
   ]
  },
  {
   "cell_type": "code",
   "execution_count": null,
   "id": "886c92fb",
   "metadata": {},
   "outputs": [],
   "source": []
  }
 ],
 "metadata": {
  "kernelspec": {
   "display_name": "Python 3 (ipykernel)",
   "language": "python",
   "name": "python3"
  },
  "language_info": {
   "codemirror_mode": {
    "name": "ipython",
    "version": 3
   },
   "file_extension": ".py",
   "mimetype": "text/x-python",
   "name": "python",
   "nbconvert_exporter": "python",
   "pygments_lexer": "ipython3",
   "version": "3.11.4"
  }
 },
 "nbformat": 4,
 "nbformat_minor": 5
}
